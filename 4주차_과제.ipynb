{
  "nbformat": 4,
  "nbformat_minor": 0,
  "metadata": {
    "colab": {
      "name": "4주차 과제",
      "provenance": [],
      "collapsed_sections": [],
      "authorship_tag": "ABX9TyN9MSb5tGpJlLwjFSLxw4It",
      "include_colab_link": true
    },
    "kernelspec": {
      "name": "python3",
      "display_name": "Python 3"
    }
  },
  "cells": [
    {
      "cell_type": "markdown",
      "metadata": {
        "id": "view-in-github",
        "colab_type": "text"
      },
      "source": [
        "<a href=\"https://colab.research.google.com/github/caiyin0211/chaeeun-park/blob/master/4%EC%A3%BC%EC%B0%A8_%EA%B3%BC%EC%A0%9C.ipynb\" target=\"_parent\"><img src=\"https://colab.research.google.com/assets/colab-badge.svg\" alt=\"Open In Colab\"/></a>"
      ]
    },
    {
      "cell_type": "markdown",
      "metadata": {
        "id": "Z5BdJ6G2j9-H",
        "colab_type": "text"
      },
      "source": [
        "###1번문제   \n",
        "\n",
        "###MCP 뉴런   \n",
        ":1943년 워랜 맥컬록(Warren S. McCulloch)과 월터 피츠(Walter Pitts)는 처음으로 간소화된 뇌의 뉴런 개념을 발표   \n",
        "이를 MaCulloch-Pitts Neuron 이라고 함   \n",
        "하나의 사람 뇌 신경세포를 하나의 이진(Binary)출력을 간단한 논리 회로로 표현 (강의내용)\n",
        "\n",
        "![대체 텍스트](https://lh3.googleusercontent.com/proxy/U5EuYHu8KLwVc6Mk9JqLK-k1wgVoRyw2o4lxwFlxCFinWZsSYJCePbC2WPvk1-Q5Gld_b12P5dA6uh1XZvOstP6spwhIhDCJeOHFk_-YZp8xs9_jRDwL7nBJU2XX2DHSiuHD0X8gYYrGxKobbDtBR_cfRdR9yffisihmOhThQXHmavWW0BbPawzwSgq4iyUH_yWSUQsjed-RfUXqdNRcAb7LI4Bf1e4Rg22spOb_rQk6q2G9aop-EMCJF74wLbWkpvbwX3rhNagCLUsvrST_VBoxw_45GLMk35I)\n",
        "\n",
        "\n",
        "\n",
        "\n",
        "###퍼셉트론   \n",
        ": \n",
        "-여러개의 입력을 받아 각각의 값에 가중치를 곱한후, 모두 더한 것이 출력되는 형태의 모델   \n",
        "신경망이나 딥러닝의 뿌리가 되는 모델 (강의내용)\n",
        "\n",
        "-퍼셉트론(perceptron)은 인공신경망의 한 종류로서, 1957년에 코넬 항공 연구소(Cornell Aeronautical Lab)의 프랑크 로젠블라트 (Frank Rosenblatt)에 의해 고안되었다. 이것은 가장 간단한 형태의 피드포워드(Feedforward) 네트워크 - 선형분류기- 로도 볼 수 있다.\n",
        "\n",
        "퍼셉트론이 동작하는 방식은 다음과 같다. 각 노드의 가중치와 입력치를 곱한 것을 모두 합한 값이 활성함수에 의해 판단되는데, 그 값이 임계치(보통 0)보다 크면 뉴런이 활성화되고 결과값으로 1을 출력한다. 뉴런이 활성화되지 않으면 결과값으로 -1을 출력한다.\n",
        "\n",
        "마빈 민스키와 시모어 페퍼트는 저서 \"퍼셉트론\"에서 단층 퍼셉트론은 XOR 연산이 불가능하지만, 다층 퍼셉트론으로는 XOR 연산이 가능함을 보였다. \n",
        " [참고자료 위키백과 ](https://ko.wikipedia.org/wiki/%ED%8D%BC%EC%85%89%ED%8A%B8%EB%A1%A0)\n",
        "\n",
        "\n",
        "\n",
        "\n",
        "###역전파   \n",
        ": 역전파(backpropagation)   \n",
        "뉴런의 가중치를 효율적으로 조정하기 위하여, 거꾸로 무엇인가를 전파하는 방식   \n",
        "출력값과 지도 데이터 사이에 생기는 '오차'를 이용해 출력층에서 입력층쪽으로 가중치 조절 (강의내용)\n",
        "\n",
        "   \n",
        "###강화학습   \n",
        ":환경이란 개념과 상호작용하며 에이전트 성능 향상 시키는 것   \n",
        "피드백은 정답 레이블과 수치가 아님   \n",
        "보상함수라는 것을 통해 에이전트가 취한 행동이 얼마나 좋은 행동인지 or 못한건지 측정   (강의내용)\n",
        "\n",
        "###과적합   \n",
        ":트리 최대의 깊이 제한 (트리 가지치기 - pruning)\n",
        "가지가 뻗어 내려가는 정도 설정 (강의내용)   \n",
        "학습이 너무 잘 되어서 학습 데이터에 대해서는 높은 정확도를 나타내지만 테스트 데이터나 실제 적용시에는 성능이 떨어지는 현상  \n",
        "\n",
        "\n",
        "###차원의저주   \n",
        ":고정된 크기의 훈련 데이터셋 차원이 늘어남에 따라 특성 공간이 점점 희소해 지는 현상   \n",
        "올바른 변수의 선택, 차원 축소 기법 사용해야함  (강의내용)\n"
      ]
    },
    {
      "cell_type": "markdown",
      "metadata": {
        "id": "nkerdTFIsZ0G",
        "colab_type": "text"
      },
      "source": [
        "### 2번문제"
      ]
    },
    {
      "cell_type": "code",
      "metadata": {
        "id": "lfaxOwb5sbYF",
        "colab_type": "code",
        "colab": {
          "base_uri": "https://localhost:8080/",
          "height": 52
        },
        "outputId": "a7d00692-03dd-4cf4-b263-aa7953790255"
      },
      "source": [
        "import tensorflow as tf\n",
        "tf.compat.v1.set_random_seed(2000)\n",
        "x=1\n",
        "y=0\n",
        "w=tf.random.normal([1],0,1)\n",
        "\n",
        "import math\n",
        "def sigmoid(x):\n",
        "  return 1/(1 + math.exp(-x))\n",
        "\n",
        "output = sigmoid(x*w)\n",
        "print(output)\n",
        "\n",
        "for i in range(1000):\n",
        "  output = sigmoid(x*w)\n",
        "  error = y - output\n",
        "  w = w + x*error\n",
        "\n",
        "if i % 100 == 99:\n",
        "  print(\"학습 횟수:\",i, \"Error:\",error, \"예측 결과:\", output)"
      ],
      "execution_count": 2,
      "outputs": [
        {
          "output_type": "stream",
          "text": [
            "0.42459013094980497\n",
            "학습 횟수: 999 Error: -0.0010021719825387527 예측 결과: 0.0010021719825387527\n"
          ],
          "name": "stdout"
        }
      ]
    },
    {
      "cell_type": "markdown",
      "metadata": {
        "id": "1eXqIfaauRwg",
        "colab_type": "text"
      },
      "source": [
        "### 3번문제\n",
        "(1) 학습률이 0.2 일 경우 출력층의 노드값 \n",
        "\n",
        "###1\n",
        "\n",
        "\n",
        "(2) 학습률이 0.1과 0.2 중 기대출력값이 지도데이터 \"3과\" 더 가까운 학습률은?    \n",
        "\n",
        "\n",
        "###0.2\n"
      ]
    }
  ]
}