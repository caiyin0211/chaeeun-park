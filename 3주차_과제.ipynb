{
  "nbformat": 4,
  "nbformat_minor": 0,
  "metadata": {
    "colab": {
      "name": "3주차 과제",
      "provenance": [],
      "collapsed_sections": [],
      "authorship_tag": "ABX9TyMIgT1KS5bZzjRBxpUSfwmu",
      "include_colab_link": true
    },
    "kernelspec": {
      "name": "python3",
      "display_name": "Python 3"
    }
  },
  "cells": [
    {
      "cell_type": "markdown",
      "metadata": {
        "id": "view-in-github",
        "colab_type": "text"
      },
      "source": [
        "<a href=\"https://colab.research.google.com/github/caiyin0211/chaeeun-park/blob/master/3%EC%A3%BC%EC%B0%A8_%EA%B3%BC%EC%A0%9C.ipynb\" target=\"_parent\"><img src=\"https://colab.research.google.com/assets/colab-badge.svg\" alt=\"Open In Colab\"/></a>"
      ]
    },
    {
      "cell_type": "markdown",
      "metadata": {
        "id": "5jKCjgygojTz",
        "colab_type": "text"
      },
      "source": [
        "###1번 문제\n",
        "###답: 1.6"
      ]
    },
    {
      "cell_type": "markdown",
      "metadata": {
        "id": "IaeIqIORHl8J",
        "colab_type": "text"
      },
      "source": [
        "### 2번 문제"
      ]
    },
    {
      "cell_type": "code",
      "metadata": {
        "id": "0juWmj9cDmK_",
        "colab_type": "code",
        "colab": {}
      },
      "source": [
        "import numpy as np\n",
        "np.random.seed(123)\n",
        "X = np.random.random_sample([5,3])*10\n"
      ],
      "execution_count": 0,
      "outputs": []
    },
    {
      "cell_type": "code",
      "metadata": {
        "id": "cRMxJu_6DyDf",
        "colab_type": "code",
        "colab": {
          "base_uri": "https://localhost:8080/",
          "height": 195
        },
        "outputId": "45576f54-06c8-4098-b74f-f300b622d0d4"
      },
      "source": [
        "import pandas as pd\n",
        "variables = ['X','Y','Z']\n",
        "labels = ['ID_0','ID_1','ID_2','ID_3','ID_4']\n",
        "df = pd.DataFrame(X, columns=variables,index=labels)\n",
        "df"
      ],
      "execution_count": 9,
      "outputs": [
        {
          "output_type": "execute_result",
          "data": {
            "text/html": [
              "<div>\n",
              "<style scoped>\n",
              "    .dataframe tbody tr th:only-of-type {\n",
              "        vertical-align: middle;\n",
              "    }\n",
              "\n",
              "    .dataframe tbody tr th {\n",
              "        vertical-align: top;\n",
              "    }\n",
              "\n",
              "    .dataframe thead th {\n",
              "        text-align: right;\n",
              "    }\n",
              "</style>\n",
              "<table border=\"1\" class=\"dataframe\">\n",
              "  <thead>\n",
              "    <tr style=\"text-align: right;\">\n",
              "      <th></th>\n",
              "      <th>X</th>\n",
              "      <th>Y</th>\n",
              "      <th>Z</th>\n",
              "    </tr>\n",
              "  </thead>\n",
              "  <tbody>\n",
              "    <tr>\n",
              "      <th>ID_0</th>\n",
              "      <td>6.964692</td>\n",
              "      <td>2.861393</td>\n",
              "      <td>2.268515</td>\n",
              "    </tr>\n",
              "    <tr>\n",
              "      <th>ID_1</th>\n",
              "      <td>5.513148</td>\n",
              "      <td>7.194690</td>\n",
              "      <td>4.231065</td>\n",
              "    </tr>\n",
              "    <tr>\n",
              "      <th>ID_2</th>\n",
              "      <td>9.807642</td>\n",
              "      <td>6.848297</td>\n",
              "      <td>4.809319</td>\n",
              "    </tr>\n",
              "    <tr>\n",
              "      <th>ID_3</th>\n",
              "      <td>3.921175</td>\n",
              "      <td>3.431780</td>\n",
              "      <td>7.290497</td>\n",
              "    </tr>\n",
              "    <tr>\n",
              "      <th>ID_4</th>\n",
              "      <td>4.385722</td>\n",
              "      <td>0.596779</td>\n",
              "      <td>3.980443</td>\n",
              "    </tr>\n",
              "  </tbody>\n",
              "</table>\n",
              "</div>"
            ],
            "text/plain": [
              "             X         Y         Z\n",
              "ID_0  6.964692  2.861393  2.268515\n",
              "ID_1  5.513148  7.194690  4.231065\n",
              "ID_2  9.807642  6.848297  4.809319\n",
              "ID_3  3.921175  3.431780  7.290497\n",
              "ID_4  4.385722  0.596779  3.980443"
            ]
          },
          "metadata": {
            "tags": []
          },
          "execution_count": 9
        }
      ]
    },
    {
      "cell_type": "code",
      "metadata": {
        "id": "CJq_JgMlE44a",
        "colab_type": "code",
        "colab": {}
      },
      "source": [
        "from scipy.spatial.distance import pdist, squareform"
      ],
      "execution_count": 0,
      "outputs": []
    },
    {
      "cell_type": "code",
      "metadata": {
        "id": "SqAb4r_-E_8x",
        "colab_type": "code",
        "colab": {
          "base_uri": "https://localhost:8080/",
          "height": 52
        },
        "outputId": "2eb7a6ef-efa7-45fe-ec0c-80cf0b1820eb"
      },
      "source": [
        "Y = pdist(df)\n",
        "Y"
      ],
      "execution_count": 11,
      "outputs": [
        {
          "output_type": "execute_result",
          "data": {
            "text/plain": [
              "array([4.973534  , 5.51665266, 5.89988504, 3.83539555, 4.34707339,\n",
              "       5.10431109, 6.69823298, 7.24426159, 8.31659367, 4.382864  ])"
            ]
          },
          "metadata": {
            "tags": []
          },
          "execution_count": 11
        }
      ]
    },
    {
      "cell_type": "code",
      "metadata": {
        "id": "uc4jd2YxFIu2",
        "colab_type": "code",
        "colab": {}
      },
      "source": [
        "row_dist = pd.DataFrame(squareform(pdist(df,metric='euclidean')), columns = labels, index=lables)"
      ],
      "execution_count": 0,
      "outputs": []
    },
    {
      "cell_type": "code",
      "metadata": {
        "id": "K9NtTtnOGd4Q",
        "colab_type": "code",
        "colab": {}
      },
      "source": [
        "from scipy.cluster.hierarchy import linkage"
      ],
      "execution_count": 0,
      "outputs": []
    },
    {
      "cell_type": "code",
      "metadata": {
        "id": "Mc7aYeFOGlX6",
        "colab_type": "code",
        "colab": {}
      },
      "source": [
        "row_clusters = linkage(pdist(df,metric='euclidean'), method='complete')"
      ],
      "execution_count": 0,
      "outputs": []
    },
    {
      "cell_type": "code",
      "metadata": {
        "id": "BIaWIfRHGyOn",
        "colab_type": "code",
        "colab": {
          "base_uri": "https://localhost:8080/",
          "height": 166
        },
        "outputId": "de04f221-dd98-478e-b3b4-0d3d885f1287"
      },
      "source": [
        "pd.DataFrame(row_clusters, columns=['row label 1', 'row label 2','distance', 'no. of items in clust.'],\n",
        "             index=['cluster %d' %(i+1) for i in range(row_clusters.shape[0])])\n"
      ],
      "execution_count": 22,
      "outputs": [
        {
          "output_type": "execute_result",
          "data": {
            "text/html": [
              "<div>\n",
              "<style scoped>\n",
              "    .dataframe tbody tr th:only-of-type {\n",
              "        vertical-align: middle;\n",
              "    }\n",
              "\n",
              "    .dataframe tbody tr th {\n",
              "        vertical-align: top;\n",
              "    }\n",
              "\n",
              "    .dataframe thead th {\n",
              "        text-align: right;\n",
              "    }\n",
              "</style>\n",
              "<table border=\"1\" class=\"dataframe\">\n",
              "  <thead>\n",
              "    <tr style=\"text-align: right;\">\n",
              "      <th></th>\n",
              "      <th>row label 1</th>\n",
              "      <th>row label 2</th>\n",
              "      <th>distance</th>\n",
              "      <th>no. of items in clust.</th>\n",
              "    </tr>\n",
              "  </thead>\n",
              "  <tbody>\n",
              "    <tr>\n",
              "      <th>cluster 1</th>\n",
              "      <td>0.0</td>\n",
              "      <td>4.0</td>\n",
              "      <td>3.835396</td>\n",
              "      <td>2.0</td>\n",
              "    </tr>\n",
              "    <tr>\n",
              "      <th>cluster 2</th>\n",
              "      <td>1.0</td>\n",
              "      <td>2.0</td>\n",
              "      <td>4.347073</td>\n",
              "      <td>2.0</td>\n",
              "    </tr>\n",
              "    <tr>\n",
              "      <th>cluster 3</th>\n",
              "      <td>3.0</td>\n",
              "      <td>5.0</td>\n",
              "      <td>5.899885</td>\n",
              "      <td>3.0</td>\n",
              "    </tr>\n",
              "    <tr>\n",
              "      <th>cluster 4</th>\n",
              "      <td>6.0</td>\n",
              "      <td>7.0</td>\n",
              "      <td>8.316594</td>\n",
              "      <td>5.0</td>\n",
              "    </tr>\n",
              "  </tbody>\n",
              "</table>\n",
              "</div>"
            ],
            "text/plain": [
              "           row label 1  row label 2  distance  no. of items in clust.\n",
              "cluster 1          0.0          4.0  3.835396                     2.0\n",
              "cluster 2          1.0          2.0  4.347073                     2.0\n",
              "cluster 3          3.0          5.0  5.899885                     3.0\n",
              "cluster 4          6.0          7.0  8.316594                     5.0"
            ]
          },
          "metadata": {
            "tags": []
          },
          "execution_count": 22
        }
      ]
    },
    {
      "cell_type": "markdown",
      "metadata": {
        "id": "asMRFEoqfoI4",
        "colab_type": "text"
      },
      "source": [
        "###3번 문제"
      ]
    },
    {
      "cell_type": "code",
      "metadata": {
        "id": "gYFryh-4fqj4",
        "colab_type": "code",
        "colab": {}
      },
      "source": [
        "x = [1, 2, 3]\n",
        "y = [2, 4, 6]"
      ],
      "execution_count": 0,
      "outputs": []
    },
    {
      "cell_type": "code",
      "metadata": {
        "id": "c7yjfim4g_XB",
        "colab_type": "code",
        "colab": {}
      },
      "source": [
        "# W(가중치) 데이터 타입 -> int or float\n",
        "# x(학습 데이터) 데이터 타입 -> list\n",
        "# y(정답 데이터) 데이터 타입 -> list\n",
        "# cost_func 함수 리턴값 타입 -> float\n",
        "# cost_func 함수 리턴값 = cost 값\n",
        "# W:가중치, x:학습 데이터 y:정답 데이터\n",
        "\n",
        "def cost_func(W, x, y):\n",
        "  pass"
      ],
      "execution_count": 0,
      "outputs": []
    },
    {
      "cell_type": "code",
      "metadata": {
        "id": "11TbpBCDhB0k",
        "colab_type": "code",
        "colab": {}
      },
      "source": [
        "for feed_W in range(-5, 6, 1):\n",
        "  curr_cost = cost_func(feed_W, x, y)\n",
        "  print(\"{:6.3f} | {:10.5f}\".format(feed_W, curr_cost))"
      ],
      "execution_count": 0,
      "outputs": []
    }
  ]
}