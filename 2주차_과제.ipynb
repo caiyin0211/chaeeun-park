{
  "nbformat": 4,
  "nbformat_minor": 0,
  "metadata": {
    "colab": {
      "name": "2주차 과제",
      "provenance": [],
      "collapsed_sections": [],
      "authorship_tag": "ABX9TyPhGGAzNFyYSwpv+J37FNTv",
      "include_colab_link": true
    },
    "kernelspec": {
      "name": "python3",
      "display_name": "Python 3"
    }
  },
  "cells": [
    {
      "cell_type": "markdown",
      "metadata": {
        "id": "view-in-github",
        "colab_type": "text"
      },
      "source": [
        "<a href=\"https://colab.research.google.com/github/caiyin0211/chaeeun-park/blob/master/2%EC%A3%BC%EC%B0%A8_%EA%B3%BC%EC%A0%9C.ipynb\" target=\"_parent\"><img src=\"https://colab.research.google.com/assets/colab-badge.svg\" alt=\"Open In Colab\"/></a>"
      ]
    },
    {
      "cell_type": "markdown",
      "metadata": {
        "id": "qc-mGsIKjVtw",
        "colab_type": "text"
      },
      "source": [
        "1번\n",
        "다음 변수 a, 변수 b, 변수 c의 자료형을 출력하세요."
      ]
    },
    {
      "cell_type": "code",
      "metadata": {
        "id": "vVX9dVOuistl",
        "colab_type": "code",
        "colab": {
          "base_uri": "https://localhost:8080/",
          "height": 34
        },
        "outputId": "beaf5f25-14ec-4bd5-baf5-fe353e5a9abc"
      },
      "source": [
        "# 주어진 변수(a, b, c) 직접 수정불가\n",
        "a = 'str'\n",
        "b = 123\n",
        "c = True\n",
        "\n",
        "\n",
        "print(type(a),type(b),type(c))\n"
      ],
      "execution_count": 2,
      "outputs": [
        {
          "output_type": "stream",
          "text": [
            "<class 'str'> <class 'int'> <class 'bool'>\n"
          ],
          "name": "stdout"
        }
      ]
    },
    {
      "cell_type": "markdown",
      "metadata": {
        "id": "fymCsxa-jphA",
        "colab_type": "text"
      },
      "source": [
        "2번\n",
        "다음 변수 num_list에 있는 요소를 모두 더한 값을 for문을 활용하여 변수 answer에 저장하고 그 값을 출력하세요."
      ]
    },
    {
      "cell_type": "code",
      "metadata": {
        "id": "FSyWMwSbiuIi",
        "colab_type": "code",
        "colab": {
          "base_uri": "https://localhost:8080/",
          "height": 34
        },
        "outputId": "76457c2e-fe0b-434f-faf0-514b0023256b"
      },
      "source": [
        "# 주어진 변수(num_list) 직접 수정 불가\n",
        "# for문을 사용 하지 않은 경우 오답처리\n",
        "num_list = [1,2,3,4,5,6,7,8,9]\n",
        "answer = 0\n",
        "\n",
        "for i in num_list:\n",
        "      answer+=i\n",
        "print(answer)\n"
      ],
      "execution_count": 3,
      "outputs": [
        {
          "output_type": "stream",
          "text": [
            "45\n"
          ],
          "name": "stdout"
        }
      ]
    },
    {
      "cell_type": "markdown",
      "metadata": {
        "id": "vck_jTZ2jueV",
        "colab_type": "text"
      },
      "source": [
        "3번\n",
        "다음 변수 date를 슬라이스해서 year(년), month(월), day(일)를 각각 출력하세요. (출력 : 2020 05 11)"
      ]
    },
    {
      "cell_type": "code",
      "metadata": {
        "id": "mP556QHwjvqP",
        "colab_type": "code",
        "colab": {
          "base_uri": "https://localhost:8080/",
          "height": 34
        },
        "outputId": "5ae6b4a7-9d8a-414d-b5a6-c21ff3697de0"
      },
      "source": [
        "# 주어진 변수(date)만 직접 수정불가, 다른 year, month, day 변수는 직접 수정가능\n",
        "# 슬라이스를 사용 안 할 경우 오답처리\n",
        "date = '20200511'\n",
        "\n",
        "year = None\n",
        "month = None\n",
        "day = None\n",
        "\n",
        "year=date[0:4]\n",
        "month=date[4:6]\n",
        "day=date[6:9]\n",
        "print(year,month,day)"
      ],
      "execution_count": 4,
      "outputs": [
        {
          "output_type": "stream",
          "text": [
            "2020 05 11\n"
          ],
          "name": "stdout"
        }
      ]
    },
    {
      "cell_type": "markdown",
      "metadata": {
        "id": "OkZ5AKf9j1kg",
        "colab_type": "text"
      },
      "source": [
        "4번 \n",
        "다음 변수 summary에 1 부터 100까지 모두 더한 값을 저장하여 출력하세요."
      ]
    },
    {
      "cell_type": "code",
      "metadata": {
        "id": "UAFF0uNJjyzB",
        "colab_type": "code",
        "colab": {
          "base_uri": "https://localhost:8080/",
          "height": 34
        },
        "outputId": "14ac6d0a-a061-4a2c-f867-0c939641b943"
      },
      "source": [
        "# 주어진 변수(summary) 직접 수정불가\n",
        "summary = 0\n",
        "\n",
        "for i in range(100):\n",
        "  summary+=i\n",
        "\n",
        "print(summary)"
      ],
      "execution_count": 5,
      "outputs": [
        {
          "output_type": "stream",
          "text": [
            "4950\n"
          ],
          "name": "stdout"
        }
      ]
    },
    {
      "cell_type": "markdown",
      "metadata": {
        "id": "tyDoUPWPjyOL",
        "colab_type": "text"
      },
      "source": [
        "5번\n",
        "다음 변수 hangul의 문자열을 거꾸로 출력하세요. (출력:‘사바마라다나가’)"
      ]
    },
    {
      "cell_type": "code",
      "metadata": {
        "id": "P8YQuEERkLw-",
        "colab_type": "code",
        "colab": {
          "base_uri": "https://localhost:8080/",
          "height": 34
        },
        "outputId": "f2c30e4c-57bb-4d3a-e3da-198407511627"
      },
      "source": [
        "# 주어진 변수(hangul) 직접 수정불가\n",
        "hangul = '가나다라마바사'\n",
        "\n",
        "print(hangul[::-1])"
      ],
      "execution_count": 6,
      "outputs": [
        {
          "output_type": "stream",
          "text": [
            "사바마라다나가\n"
          ],
          "name": "stdout"
        }
      ]
    },
    {
      "cell_type": "markdown",
      "metadata": {
        "id": "GY5d87FDkOsm",
        "colab_type": "text"
      },
      "source": [
        "6번\n",
        "다음 변수 num에는 공백으로 구분된 4개의 점수가 들어 있습니다. 평균을 구해서 출력하세요."
      ]
    },
    {
      "cell_type": "code",
      "metadata": {
        "id": "D8oAj8RskR39",
        "colab_type": "code",
        "colab": {
          "base_uri": "https://localhost:8080/",
          "height": 34
        },
        "outputId": "5f196799-756e-4179-f24b-dad819b96a6f"
      },
      "source": [
        "# 주어진 변수(num) 직접 수정불가\n",
        "num = \"70 50 90 70\"\n",
        "\n",
        "ns=[int(x) for x in num.split()]\n",
        "s=sum(ns)\n",
        "a=s/len(ns)\n",
        "print(a)\n"
      ],
      "execution_count": 7,
      "outputs": [
        {
          "output_type": "stream",
          "text": [
            "70.0\n"
          ],
          "name": "stdout"
        }
      ]
    },
    {
      "cell_type": "markdown",
      "metadata": {
        "id": "lFncpY8DkU3S",
        "colab_type": "text"
      },
      "source": [
        "7번\n",
        "다음 변수 n에 입력한 값이 짝수 일 경우 ‘짝수’를, 짝수가 아닐 경우 ‘짝수가 아닙니다’를 판별하여 출력하세요. (출력: 짝수 or 짝수가 아닙니다)"
      ]
    },
    {
      "cell_type": "code",
      "metadata": {
        "id": "4Xi4-TmykXgU",
        "colab_type": "code",
        "colab": {
          "base_uri": "https://localhost:8080/",
          "height": 52
        },
        "outputId": "b3b412db-8542-415d-9f93-2e46051b5766"
      },
      "source": [
        "# 주어진 변수(n) 직접 수정불가\n",
        "n = int(input('숫자를 입력해주세요'))\n",
        "\n",
        "if n % 2==0:\n",
        "  print('짝수')\n",
        "else:\n",
        "  print('짝수가 아닙니다')"
      ],
      "execution_count": 8,
      "outputs": [
        {
          "output_type": "stream",
          "text": [
            "숫자를 입력해주세요2\n",
            "짝수\n"
          ],
          "name": "stdout"
        }
      ]
    },
    {
      "cell_type": "markdown",
      "metadata": {
        "id": "db_rrs_kklVa",
        "colab_type": "text"
      },
      "source": [
        "8번\n",
        "사각형의 대각선의 길이를 구하는 공식은 밑변의 제곱 + 높이의 제곱 = 대각선의 제곱이다.\n",
        "\n",
        "다음 변수 list_08에는 하나의 직사각형의 밑변과 높이가 저장되어 있습니다.\n",
        "\n",
        "각각 밑변이 3이고 높이가 4일 때, 직사각형의 대각선의 제곱의 길이를 출력하세요.\n"
      ]
    },
    {
      "cell_type": "code",
      "metadata": {
        "id": "JTKegxy7kpMn",
        "colab_type": "code",
        "colab": {
          "base_uri": "https://localhost:8080/",
          "height": 34
        },
        "outputId": "497532cc-919e-4b74-e8ae-6c60a0eca88e"
      },
      "source": [
        "# 주어진 변수(list_08) 직접 수정불가\n",
        "list_08 = [3, 4]\n",
        "\n",
        "w,h=list_08\n",
        "d2=w*w+h*h\n",
        "print(d2)\n"
      ],
      "execution_count": 9,
      "outputs": [
        {
          "output_type": "stream",
          "text": [
            "25\n"
          ],
          "name": "stdout"
        }
      ]
    },
    {
      "cell_type": "markdown",
      "metadata": {
        "id": "4dH3fquFkrXd",
        "colab_type": "text"
      },
      "source": [
        "9번\n",
        "입력받은 숫자가 소수인지 아닌지 출력하는 프로그램을 작성 해 주세요. (출력 : 소수 or 소수가 아닙니다)"
      ]
    },
    {
      "cell_type": "code",
      "metadata": {
        "id": "hKUByauIkuGv",
        "colab_type": "code",
        "colab": {
          "base_uri": "https://localhost:8080/",
          "height": 52
        },
        "outputId": "932ebf6d-2b81-4e3e-b09d-6a8e6e06a372"
      },
      "source": [
        "# 주어진 변수(num_10) 직접 수정불가\n",
        "# 함수(prime_number) 직접 수정가능\n",
        "num_10 = int(input('숫자를 입력해주세요'))\n",
        "\n",
        "def prime_number(n):\n",
        "  b=0\n",
        "  for i in range(2,n):\n",
        "    if n%i==0:\n",
        "      b=1\n",
        "  if b ==0:\n",
        "    print(\"소수입니다\")\n",
        "  else:\n",
        "    print(\"소수가아닙니다\")\n",
        "  \n",
        "prime_number(13)"
      ],
      "execution_count": 10,
      "outputs": [
        {
          "output_type": "stream",
          "text": [
            "숫자를 입력해주세요13\n",
            "소수입니다\n"
          ],
          "name": "stdout"
        }
      ]
    },
    {
      "cell_type": "markdown",
      "metadata": {
        "id": "Z90I6noSkxnE",
        "colab_type": "text"
      },
      "source": [
        "10번\n",
        "다음 공식은 Hypothesis를 구하는 공식입니다. 다음과 같이 값이 주어졌을때 h(x)의 값을 구하시오.\n",
        "\n",
        "W = 3\n",
        "x = 10\n",
        "b = 1\n",
        "\n",
        "###답 :31"
      ]
    },
    {
      "cell_type": "markdown",
      "metadata": {
        "id": "veHcSKbhk3Im",
        "colab_type": "text"
      },
      "source": [
        "11번\n",
        "다음 공식은 Cost를 구하는 공식입니다. 다음과 같이 값이 주어졌을때 cost의 값을 구하세요.\n",
        "\n",
        "W = 2\n",
        "x = [2, 4, 8]\n",
        "y = [5, 12, 21]\n",
        "(tip: x1=2, y1=5 / x2=4, y2=12 / x3=8, y3=21)\n",
        "\n",
        "\n",
        "###답: 14\n"
      ]
    },
    {
      "cell_type": "markdown",
      "metadata": {
        "id": "OANlhY14lDMo",
        "colab_type": "text"
      },
      "source": [
        "12번\n",
        "다음 공식은 로지스틱 시그모이드 함수입니다. x가 양의 무한대로 갈때 f(x)가 수렴하는 값을 구하세요.\n",
        "\n",
        "###답: 1\n"
      ]
    }
  ]
}